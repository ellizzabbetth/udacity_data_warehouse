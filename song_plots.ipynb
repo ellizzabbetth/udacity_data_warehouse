{
 "cells": [
  {
   "cell_type": "code",
   "execution_count": 1,
   "metadata": {},
   "outputs": [],
   "source": [
    "import matplotlib.pyplot as plt\n",
    "import pandas as pd\n",
    "import numpy as np"
   ]
  },
  {
   "cell_type": "code",
   "execution_count": 2,
   "metadata": {},
   "outputs": [],
   "source": [
    "from create_cluster import get_config\n",
    "config = get_config()\n",
    "\n",
    "import psycopg2 \n",
    "# from sqlalchemy import create_engine "
   ]
  },
  {
   "cell_type": "code",
   "execution_count": 3,
   "metadata": {},
   "outputs": [],
   "source": [
    "# establish connection with the database \n",
    "from sql_queries import create_connection"
   ]
  },
  {
   "cell_type": "code",
   "execution_count": 4,
   "metadata": {},
   "outputs": [],
   "source": [
    "cur, conn = create_connection()\n"
   ]
  },
  {
   "cell_type": "code",
   "execution_count": 5,
   "metadata": {},
   "outputs": [
    {
     "name": "stderr",
     "output_type": "stream",
     "text": [
      "C:\\Users\\zzbra\\AppData\\Local\\Temp\\ipykernel_16516\\2888160293.py:2: UserWarning: pandas only supports SQLAlchemy connectable (engine/connection) or database string URI or sqlite3 DBAPI2 connection. Other DBAPI2 objects are not tested. Please consider using SQLAlchemy.\n",
      "  df_songs = pd.read_sql_query(sql, conn)\n"
     ]
    }
   ],
   "source": [
    "sql = \"select * from songs;\"\n",
    "df_songs = pd.read_sql_query(sql, conn)"
   ]
  },
  {
   "cell_type": "code",
   "execution_count": 6,
   "metadata": {},
   "outputs": [
    {
     "data": {
      "text/html": [
       "<div>\n",
       "<style scoped>\n",
       "    .dataframe tbody tr th:only-of-type {\n",
       "        vertical-align: middle;\n",
       "    }\n",
       "\n",
       "    .dataframe tbody tr th {\n",
       "        vertical-align: top;\n",
       "    }\n",
       "\n",
       "    .dataframe thead th {\n",
       "        text-align: right;\n",
       "    }\n",
       "</style>\n",
       "<table border=\"1\" class=\"dataframe\">\n",
       "  <thead>\n",
       "    <tr style=\"text-align: right;\">\n",
       "      <th></th>\n",
       "      <th>song_id</th>\n",
       "      <th>title</th>\n",
       "      <th>artist_id</th>\n",
       "      <th>year</th>\n",
       "      <th>duration</th>\n",
       "    </tr>\n",
       "  </thead>\n",
       "  <tbody>\n",
       "    <tr>\n",
       "      <th>0</th>\n",
       "      <td>SOFSOCN12A8C143F5D</td>\n",
       "      <td>Face the Ashes</td>\n",
       "      <td>ARXR32B1187FB57099</td>\n",
       "      <td>2007</td>\n",
       "      <td>209.606079</td>\n",
       "    </tr>\n",
       "    <tr>\n",
       "      <th>1</th>\n",
       "      <td>SOHKNRJ12A6701D1F8</td>\n",
       "      <td>Drop of Rain</td>\n",
       "      <td>AR10USD1187B99F3F1</td>\n",
       "      <td>0</td>\n",
       "      <td>189.570160</td>\n",
       "    </tr>\n",
       "    <tr>\n",
       "      <th>2</th>\n",
       "      <td>SOQPWCR12A6D4FB2A3</td>\n",
       "      <td>A Poor Recipe For Civic Cohesion</td>\n",
       "      <td>AR73AIO1187B9AD57B</td>\n",
       "      <td>2005</td>\n",
       "      <td>118.073021</td>\n",
       "    </tr>\n",
       "    <tr>\n",
       "      <th>3</th>\n",
       "      <td>SOIGHOD12A8C13B5A1</td>\n",
       "      <td>Indian Angel</td>\n",
       "      <td>ARY589G1187B9A9F4E</td>\n",
       "      <td>2004</td>\n",
       "      <td>171.571793</td>\n",
       "    </tr>\n",
       "    <tr>\n",
       "      <th>4</th>\n",
       "      <td>SOFRDWL12A58A7CEF7</td>\n",
       "      <td>Hit Da Scene</td>\n",
       "      <td>AR9Q9YC1187FB5609B</td>\n",
       "      <td>0</td>\n",
       "      <td>252.943222</td>\n",
       "    </tr>\n",
       "  </tbody>\n",
       "</table>\n",
       "</div>"
      ],
      "text/plain": [
       "              song_id                             title           artist_id  \\\n",
       "0  SOFSOCN12A8C143F5D                    Face the Ashes  ARXR32B1187FB57099   \n",
       "1  SOHKNRJ12A6701D1F8                      Drop of Rain  AR10USD1187B99F3F1   \n",
       "2  SOQPWCR12A6D4FB2A3  A Poor Recipe For Civic Cohesion  AR73AIO1187B9AD57B   \n",
       "3  SOIGHOD12A8C13B5A1                      Indian Angel  ARY589G1187B9A9F4E   \n",
       "4  SOFRDWL12A58A7CEF7                      Hit Da Scene  AR9Q9YC1187FB5609B   \n",
       "\n",
       "   year    duration  \n",
       "0  2007  209.606079  \n",
       "1     0  189.570160  \n",
       "2  2005  118.073021  \n",
       "3  2004  171.571793  \n",
       "4     0  252.943222  "
      ]
     },
     "execution_count": 6,
     "metadata": {},
     "output_type": "execute_result"
    }
   ],
   "source": [
    "df_songs.head()"
   ]
  },
  {
   "cell_type": "code",
   "execution_count": 7,
   "metadata": {},
   "outputs": [
    {
     "name": "stderr",
     "output_type": "stream",
     "text": [
      "C:\\Users\\zzbra\\AppData\\Local\\Temp\\ipykernel_16516\\1676052027.py:2: UserWarning: pandas only supports SQLAlchemy connectable (engine/connection) or database string URI or sqlite3 DBAPI2 connection. Other DBAPI2 objects are not tested. Please consider using SQLAlchemy.\n",
      "  df_songplays = pd.read_sql_query(sql, conn)\n"
     ]
    },
    {
     "data": {
      "text/plain": [
       "Index(['songplay_id', 'start_time', 'user_id', 'level', 'song_id', 'artist_id',\n",
       "       'session_id', 'location', 'user_agent'],\n",
       "      dtype='object')"
      ]
     },
     "execution_count": 7,
     "metadata": {},
     "output_type": "execute_result"
    }
   ],
   "source": [
    "sql = \"select * from songplay;\"\n",
    "df_songplays = pd.read_sql_query(sql, conn)\n",
    "df_songplays.columns"
   ]
  },
  {
   "cell_type": "code",
   "execution_count": 8,
   "metadata": {},
   "outputs": [
    {
     "data": {
      "image/png": "[encoded data removed]",
      "text/plain": [
       "<Figure size 640x480 with 1 Axes>"
      ]
     },
     "metadata": {},
     "output_type": "display_data"
    }
   ],
   "source": [
    "df_songplays['level'].value_counts()\n",
    "level = ('free', 'paid')\n",
    "y_pos = np.arange(len(level))\n",
    "level_count = df_songplays['level'].value_counts()\n",
    "\n",
    "plt.bar(y_pos, level_count, align='center', alpha=0.5)\n",
    "plt.xticks(y_pos, level)\n",
    "plt.ylabel('number of songs played')\n",
    "plt.title('Songplays per level')\n",
    "plt.savefig(\"Songplays_per_level\", bbox_inches='tight')\n",
    "plt.show()"
   ]
  },
  {
   "cell_type": "code",
   "execution_count": null,
   "metadata": {},
   "outputs": [],
   "source": []
  },
  {
   "cell_type": "code",
   "execution_count": 9,
   "metadata": {},
   "outputs": [],
   "source": [
    "query = \"\"\"\n",
    "select users.gender || ', ' || users.level as gender_level,\n",
    "       count(songplay.songplay_id)\n",
    "  from songplay\n",
    "  left join users\n",
    "    on songplay.user_id = users.user_id\n",
    " group by users.gender, users.level\n",
    " order by users.gender, users.level;\n",
    "\"\"\""
   ]
  },
  {
   "cell_type": "code",
   "execution_count": 10,
   "metadata": {},
   "outputs": [],
   "source": [
    "# sql_df = pd.read_sql( \n",
    "#     query, \n",
    "#     con=engine \n",
    "# ) "
   ]
  },
  {
   "cell_type": "code",
   "execution_count": 11,
   "metadata": {},
   "outputs": [
    {
     "name": "stderr",
     "output_type": "stream",
     "text": [
      "C:\\Users\\zzbra\\AppData\\Local\\Temp\\ipykernel_16516\\549315127.py:4: UserWarning: pandas only supports SQLAlchemy connectable (engine/connection) or database string URI or sqlite3 DBAPI2 connection. Other DBAPI2 objects are not tested. Please consider using SQLAlchemy.\n",
      "  pd.read_sql(query, conn).plot(kind=\"barh\", x=\"gender_level\", legend=None, ax=ax, zorder=2)\n"
     ]
    },
    {
     "data": {
      "image/png": "[encoded data removed]",
      "text/plain": [
       "<Figure size 1600x900 with 1 Axes>"
      ]
     },
     "metadata": {},
     "output_type": "display_data"
    }
   ],
   "source": [
    "fig = plt.figure(figsize=(16, 9))\n",
    "ax = fig.gca()\n",
    "\n",
    "pd.read_sql(query, conn).plot(kind=\"barh\", x=\"gender_level\", legend=None, ax=ax, zorder=2)\n",
    "ax.grid(True, zorder=0)\n",
    "ax.set_xlabel(\"# Plays\")\n",
    "ax.set_ylabel(\"Gender and Level\")\n",
    "ax.set_title(\"Song Plays by Gender and Level\")\n",
    "\n",
    "plt.tight_layout()\n",
    "plt.savefig(\"./plots/songplays_by_gender_and_level.png\", dpi=120)"
   ]
  },
  {
   "cell_type": "code",
   "execution_count": 12,
   "metadata": {},
   "outputs": [],
   "source": [
    "query=    \"\"\"\n",
    "  SELECT sp.song_id, s.title, count(*) AS cnt \n",
    "    FROM songplay sp\n",
    "    JOIN songs s\n",
    "      ON sp.song_id = s.song_id\n",
    "GROUP BY 1, 2\n",
    "ORDER BY 3 DESC\n",
    "   LIMIT 10;\n",
    "    \"\"\""
   ]
  },
  {
   "cell_type": "code",
   "execution_count": null,
   "metadata": {},
   "outputs": [],
   "source": [
    "fig = plt.figure(figsize=(16, 9))\n",
    "ax = fig.gca()\n",
    "\n",
    "pd.read_sql(query, conn).plot(kind=\"barh\", x=\"gender_level\", legend=None, ax=ax, zorder=2)\n",
    "ax.grid(True, zorder=0)\n",
    "ax.set_xlabel(\"# Plays\")\n",
    "ax.set_ylabel(\"Gender and Level\")\n",
    "ax.set_title(\"Song Plays by Gender and Level\")\n",
    "\n",
    "plt.tight_layout()\n",
    "plt.savefig(\"./plots/songplays_by_gender_and_level.png\", dpi=120)"
   ]
  },
  {
   "cell_type": "code",
   "execution_count": null,
   "metadata": {},
   "outputs": [],
   "source": [
    "query = (\n",
    "    \"\"\"\n",
    "`   SELECT sp.song_id, s.title, count(*) AS cnt \n",
    "    FROM songplay sp\n",
    "    JOIN songs s\n",
    "      ON sp.song_id = s.song_id\n",
    "GROUP BY 1, 2\n",
    "ORDER BY 3 DESC\n",
    "   LIMIT 10;\n",
    "    \"\"\"\n",
    ")"
   ]
  },
  {
   "cell_type": "code",
   "execution_count": null,
   "metadata": {},
   "outputs": [],
   "source": [
    "fig = plt.figure(figsize=(16, 9))\n",
    "ax = fig.gca()\n",
    "\n",
    "pd.read_sql(query, conn).plot(kind=\"barh\", x=\"gender_level\", legend=None, ax=ax, zorder=2)\n",
    "ax.grid(True, zorder=0)\n",
    "ax.set_xlabel(\"# Plays\")\n",
    "ax.set_ylabel(\"Gender and Level\")\n",
    "ax.set_title(\"Song Plays by Gender and Level\")\n",
    "\n",
    "plt.tight_layout()\n",
    "plt.savefig(\"./plots/songplays_by_gender_and_level.png\", dpi=120)"
   ]
  },
  {
   "cell_type": "code",
   "execution_count": null,
   "metadata": {},
   "outputs": [],
   "source": [
    "query = (\n",
    "\n",
    "    \"\"\"\n",
    "`   SELECT sp.song_id, s.title, count(*) AS cnt \n",
    "    FROM songplay sp\n",
    "    JOIN songs s\n",
    "      ON sp.song_id = s.song_id\n",
    "GROUP BY 1, 2\n",
    "ORDER BY 3 DESC\n",
    "   LIMIT 10;\n",
    "    \"\"\"\n",
    ")"
   ]
  },
  {
   "cell_type": "code",
   "execution_count": null,
   "metadata": {},
   "outputs": [],
   "source": [
    "fig = plt.figure(figsize=(16, 9))\n",
    "ax = fig.gca()\n",
    "\n",
    "pd.read_sql(query, conn).plot(kind=\"barh\", x=\"gender_level\", legend=None, ax=ax, zorder=2)\n",
    "ax.grid(True, zorder=0)\n",
    "ax.set_xlabel(\"# Plays\")\n",
    "ax.set_ylabel(\"Gender and Level\")\n",
    "ax.set_title(\"Song Plays by Gender and Level\")\n",
    "\n",
    "plt.tight_layout()\n",
    "plt.savefig(\"./plots/songplays_by_gender_and_level.png\", dpi=120)"
   ]
  },
  {
   "cell_type": "code",
   "execution_count": null,
   "metadata": {},
   "outputs": [],
   "source": [
    "query = (\n",
    "    \"\"\"\n",
    "  SELECT CASE\n",
    "           WHEN t.hour BETWEEN 2 AND 8  THEN '2~8'\n",
    "           WHEN t.hour BETWEEN 9 AND 12 THEN '9~12'\n",
    "           WHEN t.hour BETWEEN 13 AND 18 THEN '13~18'\n",
    "           WHEN t.hour BETWEEN 19 AND 22 THEN '19~22'\n",
    "           ELSE '23~24, 0~2'\n",
    "         END AS play_time, \n",
    "         count(*) AS cnt\n",
    "    FROM songplay sp\n",
    "    JOIN time t\n",
    "      ON sp.start_time = t.start_time\n",
    "GROUP BY 1\n",
    "ORDER BY 2 DESC;\n",
    "    \"\"\"\n",
    ")"
   ]
  }
 ],
 "metadata": {
  "kernelspec": {
   "display_name": "Python 3",
   "language": "python",
   "name": "python3"
  },
  "language_info": {
   "codemirror_mode": {
    "name": "ipython",
    "version": 3
   },
   "file_extension": ".py",
   "mimetype": "text/x-python",
   "name": "python",
   "nbconvert_exporter": "python",
   "pygments_lexer": "ipython3",
   "version": "3.9.2"
  }
 },
 "nbformat": 4,
 "nbformat_minor": 2
}
